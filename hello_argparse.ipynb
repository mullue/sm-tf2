{
 "cells": [
  {
   "cell_type": "code",
   "execution_count": 59,
   "id": "20208a75",
   "metadata": {},
   "outputs": [
    {
     "name": "stdout",
     "output_type": "stream",
     "text": [
      "Overwriting prog.py\n"
     ]
    }
   ],
   "source": [
    "%%writefile prog.py\n",
    "\n",
    "import argparse\n",
    "\n",
    "parser = argparse.ArgumentParser()\n",
    "parser.add_argument('--epochs', type=int, default=1)\n",
    "parser.add_argument('--batch_size', type=int, default=64)\n",
    "parser.add_argument('--learning_rate', type=float, default=0.1)\n",
    "\n",
    "args, _ = parser.parse_known_args()\n",
    "\n",
    "print('Type of \\'arg\\' : ' + str(type(args)))\n",
    "print(' - epochs : ' + str(args.epochs))\n",
    "print(' - batch_size : ' + str(args.batch_size))\n",
    "print(' - learning_rate : ' + str(args.learning_rate))\n"
   ]
  },
  {
   "cell_type": "code",
   "execution_count": 60,
   "id": "7429dc14",
   "metadata": {},
   "outputs": [],
   "source": [
    "!chmod +x ./prog.py"
   ]
  },
  {
   "cell_type": "code",
   "execution_count": 61,
   "id": "056fd66b",
   "metadata": {},
   "outputs": [
    {
     "name": "stdout",
     "output_type": "stream",
     "text": [
      "Type of 'arg' : <class 'argparse.Namespace'>\n",
      " - epochs : 1\n",
      " - batch_size : 64\n",
      " - learning_rate : 0.1\n"
     ]
    }
   ],
   "source": [
    "!python prog.py "
   ]
  },
  {
   "cell_type": "code",
   "execution_count": null,
   "id": "b692cc82",
   "metadata": {},
   "outputs": [],
   "source": []
  }
 ],
 "metadata": {
  "kernelspec": {
   "display_name": "conda_python3",
   "language": "python",
   "name": "conda_python3"
  },
  "language_info": {
   "codemirror_mode": {
    "name": "ipython",
    "version": 3
   },
   "file_extension": ".py",
   "mimetype": "text/x-python",
   "name": "python",
   "nbconvert_exporter": "python",
   "pygments_lexer": "ipython3",
   "version": "3.6.13"
  }
 },
 "nbformat": 4,
 "nbformat_minor": 5
}
